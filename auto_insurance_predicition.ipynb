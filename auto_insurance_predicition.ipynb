{
 "cells": [
  {
   "cell_type": "markdown",
   "metadata": {},
   "source": [
    "<hr style=\"border-width:2px;border-color:#BF3FAE\">\n",
    "<h1 style = \"text-align:center\"> AUTO INSURANCE</h1> \n",
    "<hr style=\"border-width:2px;border-color:#BF3FAE\">"
   ]
  },
  {
   "cell_type": "markdown",
   "metadata": {},
   "source": [
    "#### Objective :\n",
    "\n"
   ]
  },
  {
   "cell_type": "markdown",
   "metadata": {},
   "source": [
    "The aim of this notebook is to predict the target \"TARGET_FLAG\" which is a binary value."
   ]
  },
  {
   "cell_type": "code",
   "execution_count": 404,
   "metadata": {},
   "outputs": [],
   "source": [
    "import pandas as pd\n",
    "import numpy as np\n",
    "import matplotlib.pyplot as plt\n",
    "import seaborn as sns\n",
    "from scipy.stats import norm\n",
    "from sklearn.preprocessing import OneHotEncoder\n",
    "from imblearn.over_sampling import SMOTE\n",
    "from hyperopt import fmin, tpe, hp, STATUS_OK, Trials \n",
    "from sklearn.model_selection import train_test_split\n",
    "from sklearn.tree import DecisionTreeClassifier\n",
    "from sklearn.svm import LinearSVC, SVC\n",
    "from sklearn.ensemble import AdaBoostClassifier\n",
    "from sklearn.neighbors import KNeighborsClassifier\n",
    "\n",
    "%matplotlib inline\n",
    "pd.set_option('display.max_columns', None)\n"
   ]
  },
  {
   "cell_type": "markdown",
   "metadata": {},
   "source": [
    "<hr style=\"border-width:2px;border-color:#BF3FAE\">\n",
    "<h3 style = \"text-align:center\"> 1. Data input</h3> \n",
    "<hr style=\"border-width:2px;border-color:#BF3FAE\">"
   ]
  },
  {
   "cell_type": "markdown",
   "metadata": {},
   "source": [
    "The dataset it's about auto insurance which is available on kaggle via the link https://www.kaggle.com/c/auto-insurance-fall-2017/data"
   ]
  },
  {
   "cell_type": "code",
   "execution_count": 405,
   "metadata": {},
   "outputs": [],
   "source": [
    "# read data"
   ]
  },
  {
   "cell_type": "code",
   "execution_count": 406,
   "metadata": {},
   "outputs": [],
   "source": [
    "train_df = pd.read_csv('train_auto.csv')\n",
    "test_df = pd.read_csv('test_auto.csv')"
   ]
  },
  {
   "cell_type": "code",
   "execution_count": 407,
   "metadata": {},
   "outputs": [
    {
     "data": {
      "text/html": [
       "<div>\n",
       "<style scoped>\n",
       "    .dataframe tbody tr th:only-of-type {\n",
       "        vertical-align: middle;\n",
       "    }\n",
       "\n",
       "    .dataframe tbody tr th {\n",
       "        vertical-align: top;\n",
       "    }\n",
       "\n",
       "    .dataframe thead th {\n",
       "        text-align: right;\n",
       "    }\n",
       "</style>\n",
       "<table border=\"1\" class=\"dataframe\">\n",
       "  <thead>\n",
       "    <tr style=\"text-align: right;\">\n",
       "      <th></th>\n",
       "      <th>INDEX</th>\n",
       "      <th>TARGET_FLAG</th>\n",
       "      <th>TARGET_AMT</th>\n",
       "      <th>KIDSDRIV</th>\n",
       "      <th>AGE</th>\n",
       "      <th>HOMEKIDS</th>\n",
       "      <th>YOJ</th>\n",
       "      <th>INCOME</th>\n",
       "      <th>PARENT1</th>\n",
       "      <th>HOME_VAL</th>\n",
       "      <th>MSTATUS</th>\n",
       "      <th>SEX</th>\n",
       "      <th>EDUCATION</th>\n",
       "      <th>JOB</th>\n",
       "      <th>TRAVTIME</th>\n",
       "      <th>CAR_USE</th>\n",
       "      <th>BLUEBOOK</th>\n",
       "      <th>TIF</th>\n",
       "      <th>CAR_TYPE</th>\n",
       "      <th>RED_CAR</th>\n",
       "      <th>OLDCLAIM</th>\n",
       "      <th>CLM_FREQ</th>\n",
       "      <th>REVOKED</th>\n",
       "      <th>MVR_PTS</th>\n",
       "      <th>CAR_AGE</th>\n",
       "      <th>URBANICITY</th>\n",
       "    </tr>\n",
       "  </thead>\n",
       "  <tbody>\n",
       "    <tr>\n",
       "      <th>0</th>\n",
       "      <td>1</td>\n",
       "      <td>0</td>\n",
       "      <td>0.0</td>\n",
       "      <td>0</td>\n",
       "      <td>60.0</td>\n",
       "      <td>0</td>\n",
       "      <td>11.0</td>\n",
       "      <td>$67,349</td>\n",
       "      <td>No</td>\n",
       "      <td>$0</td>\n",
       "      <td>z_No</td>\n",
       "      <td>M</td>\n",
       "      <td>PhD</td>\n",
       "      <td>Professional</td>\n",
       "      <td>14</td>\n",
       "      <td>Private</td>\n",
       "      <td>$14,230</td>\n",
       "      <td>11</td>\n",
       "      <td>Minivan</td>\n",
       "      <td>yes</td>\n",
       "      <td>$4,461</td>\n",
       "      <td>2</td>\n",
       "      <td>No</td>\n",
       "      <td>3</td>\n",
       "      <td>18.0</td>\n",
       "      <td>Highly Urban/ Urban</td>\n",
       "    </tr>\n",
       "    <tr>\n",
       "      <th>1</th>\n",
       "      <td>2</td>\n",
       "      <td>0</td>\n",
       "      <td>0.0</td>\n",
       "      <td>0</td>\n",
       "      <td>43.0</td>\n",
       "      <td>0</td>\n",
       "      <td>11.0</td>\n",
       "      <td>$91,449</td>\n",
       "      <td>No</td>\n",
       "      <td>$257,252</td>\n",
       "      <td>z_No</td>\n",
       "      <td>M</td>\n",
       "      <td>z_High School</td>\n",
       "      <td>z_Blue Collar</td>\n",
       "      <td>22</td>\n",
       "      <td>Commercial</td>\n",
       "      <td>$14,940</td>\n",
       "      <td>1</td>\n",
       "      <td>Minivan</td>\n",
       "      <td>yes</td>\n",
       "      <td>$0</td>\n",
       "      <td>0</td>\n",
       "      <td>No</td>\n",
       "      <td>0</td>\n",
       "      <td>1.0</td>\n",
       "      <td>Highly Urban/ Urban</td>\n",
       "    </tr>\n",
       "    <tr>\n",
       "      <th>2</th>\n",
       "      <td>4</td>\n",
       "      <td>0</td>\n",
       "      <td>0.0</td>\n",
       "      <td>0</td>\n",
       "      <td>35.0</td>\n",
       "      <td>1</td>\n",
       "      <td>10.0</td>\n",
       "      <td>$16,039</td>\n",
       "      <td>No</td>\n",
       "      <td>$124,191</td>\n",
       "      <td>Yes</td>\n",
       "      <td>z_F</td>\n",
       "      <td>z_High School</td>\n",
       "      <td>Clerical</td>\n",
       "      <td>5</td>\n",
       "      <td>Private</td>\n",
       "      <td>$4,010</td>\n",
       "      <td>4</td>\n",
       "      <td>z_SUV</td>\n",
       "      <td>no</td>\n",
       "      <td>$38,690</td>\n",
       "      <td>2</td>\n",
       "      <td>No</td>\n",
       "      <td>3</td>\n",
       "      <td>10.0</td>\n",
       "      <td>Highly Urban/ Urban</td>\n",
       "    </tr>\n",
       "    <tr>\n",
       "      <th>3</th>\n",
       "      <td>5</td>\n",
       "      <td>0</td>\n",
       "      <td>0.0</td>\n",
       "      <td>0</td>\n",
       "      <td>51.0</td>\n",
       "      <td>0</td>\n",
       "      <td>14.0</td>\n",
       "      <td>NaN</td>\n",
       "      <td>No</td>\n",
       "      <td>$306,251</td>\n",
       "      <td>Yes</td>\n",
       "      <td>M</td>\n",
       "      <td>&lt;High School</td>\n",
       "      <td>z_Blue Collar</td>\n",
       "      <td>32</td>\n",
       "      <td>Private</td>\n",
       "      <td>$15,440</td>\n",
       "      <td>7</td>\n",
       "      <td>Minivan</td>\n",
       "      <td>yes</td>\n",
       "      <td>$0</td>\n",
       "      <td>0</td>\n",
       "      <td>No</td>\n",
       "      <td>0</td>\n",
       "      <td>6.0</td>\n",
       "      <td>Highly Urban/ Urban</td>\n",
       "    </tr>\n",
       "    <tr>\n",
       "      <th>4</th>\n",
       "      <td>6</td>\n",
       "      <td>0</td>\n",
       "      <td>0.0</td>\n",
       "      <td>0</td>\n",
       "      <td>50.0</td>\n",
       "      <td>0</td>\n",
       "      <td>NaN</td>\n",
       "      <td>$114,986</td>\n",
       "      <td>No</td>\n",
       "      <td>$243,925</td>\n",
       "      <td>Yes</td>\n",
       "      <td>z_F</td>\n",
       "      <td>PhD</td>\n",
       "      <td>Doctor</td>\n",
       "      <td>36</td>\n",
       "      <td>Private</td>\n",
       "      <td>$18,000</td>\n",
       "      <td>1</td>\n",
       "      <td>z_SUV</td>\n",
       "      <td>no</td>\n",
       "      <td>$19,217</td>\n",
       "      <td>2</td>\n",
       "      <td>Yes</td>\n",
       "      <td>3</td>\n",
       "      <td>17.0</td>\n",
       "      <td>Highly Urban/ Urban</td>\n",
       "    </tr>\n",
       "  </tbody>\n",
       "</table>\n",
       "</div>"
      ],
      "text/plain": [
       "   INDEX  TARGET_FLAG  TARGET_AMT  KIDSDRIV   AGE  HOMEKIDS   YOJ    INCOME  \\\n",
       "0      1            0         0.0         0  60.0         0  11.0   $67,349   \n",
       "1      2            0         0.0         0  43.0         0  11.0   $91,449   \n",
       "2      4            0         0.0         0  35.0         1  10.0   $16,039   \n",
       "3      5            0         0.0         0  51.0         0  14.0       NaN   \n",
       "4      6            0         0.0         0  50.0         0   NaN  $114,986   \n",
       "\n",
       "  PARENT1  HOME_VAL MSTATUS  SEX      EDUCATION            JOB  TRAVTIME  \\\n",
       "0      No        $0    z_No    M            PhD   Professional        14   \n",
       "1      No  $257,252    z_No    M  z_High School  z_Blue Collar        22   \n",
       "2      No  $124,191     Yes  z_F  z_High School       Clerical         5   \n",
       "3      No  $306,251     Yes    M   <High School  z_Blue Collar        32   \n",
       "4      No  $243,925     Yes  z_F            PhD         Doctor        36   \n",
       "\n",
       "      CAR_USE BLUEBOOK  TIF CAR_TYPE RED_CAR OLDCLAIM  CLM_FREQ REVOKED  \\\n",
       "0     Private  $14,230   11  Minivan     yes   $4,461         2      No   \n",
       "1  Commercial  $14,940    1  Minivan     yes       $0         0      No   \n",
       "2     Private   $4,010    4    z_SUV      no  $38,690         2      No   \n",
       "3     Private  $15,440    7  Minivan     yes       $0         0      No   \n",
       "4     Private  $18,000    1    z_SUV      no  $19,217         2     Yes   \n",
       "\n",
       "   MVR_PTS  CAR_AGE           URBANICITY  \n",
       "0        3     18.0  Highly Urban/ Urban  \n",
       "1        0      1.0  Highly Urban/ Urban  \n",
       "2        3     10.0  Highly Urban/ Urban  \n",
       "3        0      6.0  Highly Urban/ Urban  \n",
       "4        3     17.0  Highly Urban/ Urban  "
      ]
     },
     "execution_count": 407,
     "metadata": {},
     "output_type": "execute_result"
    }
   ],
   "source": [
    "train_df.head()"
   ]
  },
  {
   "cell_type": "code",
   "execution_count": 408,
   "metadata": {
    "scrolled": true
   },
   "outputs": [
    {
     "data": {
      "text/plain": [
       "Index(['INDEX', 'TARGET_FLAG', 'TARGET_AMT', 'KIDSDRIV', 'AGE', 'HOMEKIDS',\n",
       "       'YOJ', 'INCOME', 'PARENT1', 'HOME_VAL', 'MSTATUS', 'SEX', 'EDUCATION',\n",
       "       'JOB', 'TRAVTIME', 'CAR_USE', 'BLUEBOOK', 'TIF', 'CAR_TYPE', 'RED_CAR',\n",
       "       'OLDCLAIM', 'CLM_FREQ', 'REVOKED', 'MVR_PTS', 'CAR_AGE', 'URBANICITY'],\n",
       "      dtype='object')"
      ]
     },
     "execution_count": 408,
     "metadata": {},
     "output_type": "execute_result"
    }
   ],
   "source": [
    "train_df.columns"
   ]
  },
  {
   "cell_type": "markdown",
   "metadata": {},
   "source": [
    "<hr style=\"border-width:2px;border-color:#BF3FAE\">\n",
    "<h4 style = \"text-align:center\"> 1.1. Dataset analysis / exploration </h4> \n",
    "<hr style=\"border-width:2px;border-color:#BF3FAE\">"
   ]
  },
  {
   "cell_type": "code",
   "execution_count": 409,
   "metadata": {},
   "outputs": [],
   "source": [
    "# Make a dataset exploration and visualisations"
   ]
  },
  {
   "cell_type": "code",
   "execution_count": 410,
   "metadata": {},
   "outputs": [],
   "source": [
    "# drop index and target_amt feature\n",
    "train_df.drop('INDEX',axis=1, inplace=True)\n",
    "train_df.drop('TARGET_AMT',axis=1, inplace=True)\n",
    "test_df.drop('TARGET_AMT',axis=1, inplace=True)"
   ]
  },
  {
   "cell_type": "code",
   "execution_count": 411,
   "metadata": {},
   "outputs": [
    {
     "data": {
      "text/plain": [
       "<matplotlib.axes._subplots.AxesSubplot at 0x7fec089e8190>"
      ]
     },
     "execution_count": 411,
     "metadata": {},
     "output_type": "execute_result"
    },
    {
     "data": {
      "image/png": "[encoded data removed]",
      "text/plain": [
       "<Figure size 432x288 with 1 Axes>"
      ]
     },
     "metadata": {
      "needs_background": "light"
     },
     "output_type": "display_data"
    }
   ],
   "source": [
    "# visualizing the target attribute\n",
    "train_df.TARGET_FLAG.hist()"
   ]
  },
  {
   "cell_type": "markdown",
   "metadata": {},
   "source": [
    "TARGET_FLAG: 0 or 1 ==> we have a supervised binary classification problem\\\\\n",
    "\n",
    "our Target attribute is not equally distributed we have more data for the target_flag equal 0"
   ]
  },
  {
   "cell_type": "code",
   "execution_count": 412,
   "metadata": {},
   "outputs": [
    {
     "name": "stdout",
     "output_type": "stream",
     "text": [
      "<class 'pandas.core.frame.DataFrame'>\n",
      "RangeIndex: 8161 entries, 0 to 8160\n",
      "Data columns (total 24 columns):\n",
      " #   Column       Non-Null Count  Dtype  \n",
      "---  ------       --------------  -----  \n",
      " 0   TARGET_FLAG  8161 non-null   int64  \n",
      " 1   KIDSDRIV     8161 non-null   int64  \n",
      " 2   AGE          8155 non-null   float64\n",
      " 3   HOMEKIDS     8161 non-null   int64  \n",
      " 4   YOJ          7707 non-null   float64\n",
      " 5   INCOME       7716 non-null   object \n",
      " 6   PARENT1      8161 non-null   object \n",
      " 7   HOME_VAL     7697 non-null   object \n",
      " 8   MSTATUS      8161 non-null   object \n",
      " 9   SEX          8161 non-null   object \n",
      " 10  EDUCATION    8161 non-null   object \n",
      " 11  JOB          7635 non-null   object \n",
      " 12  TRAVTIME     8161 non-null   int64  \n",
      " 13  CAR_USE      8161 non-null   object \n",
      " 14  BLUEBOOK     8161 non-null   object \n",
      " 15  TIF          8161 non-null   int64  \n",
      " 16  CAR_TYPE     8161 non-null   object \n",
      " 17  RED_CAR      8161 non-null   object \n",
      " 18  OLDCLAIM     8161 non-null   object \n",
      " 19  CLM_FREQ     8161 non-null   int64  \n",
      " 20  REVOKED      8161 non-null   object \n",
      " 21  MVR_PTS      8161 non-null   int64  \n",
      " 22  CAR_AGE      7651 non-null   float64\n",
      " 23  URBANICITY   8161 non-null   object \n",
      "dtypes: float64(3), int64(7), object(14)\n",
      "memory usage: 1.5+ MB\n"
     ]
    }
   ],
   "source": [
    "train_df.info()"
   ]
  },
  {
   "cell_type": "code",
   "execution_count": 413,
   "metadata": {},
   "outputs": [
    {
     "name": "stdout",
     "output_type": "stream",
     "text": [
      "<class 'pandas.core.frame.DataFrame'>\n",
      "RangeIndex: 2141 entries, 0 to 2140\n",
      "Data columns (total 25 columns):\n",
      " #   Column       Non-Null Count  Dtype  \n",
      "---  ------       --------------  -----  \n",
      " 0   INDEX        2141 non-null   int64  \n",
      " 1   TARGET_FLAG  0 non-null      float64\n",
      " 2   KIDSDRIV     2141 non-null   int64  \n",
      " 3   AGE          2140 non-null   float64\n",
      " 4   HOMEKIDS     2141 non-null   int64  \n",
      " 5   YOJ          2047 non-null   float64\n",
      " 6   INCOME       2016 non-null   object \n",
      " 7   PARENT1      2141 non-null   object \n",
      " 8   HOME_VAL     2030 non-null   object \n",
      " 9   MSTATUS      2141 non-null   object \n",
      " 10  SEX          2141 non-null   object \n",
      " 11  EDUCATION    2141 non-null   object \n",
      " 12  JOB          2002 non-null   object \n",
      " 13  TRAVTIME     2141 non-null   int64  \n",
      " 14  CAR_USE      2141 non-null   object \n",
      " 15  BLUEBOOK     2141 non-null   object \n",
      " 16  TIF          2141 non-null   int64  \n",
      " 17  CAR_TYPE     2141 non-null   object \n",
      " 18  RED_CAR      2141 non-null   object \n",
      " 19  OLDCLAIM     2141 non-null   object \n",
      " 20  CLM_FREQ     2141 non-null   int64  \n",
      " 21  REVOKED      2141 non-null   object \n",
      " 22  MVR_PTS      2141 non-null   int64  \n",
      " 23  CAR_AGE      2012 non-null   float64\n",
      " 24  URBANICITY   2141 non-null   object \n",
      "dtypes: float64(4), int64(7), object(14)\n",
      "memory usage: 418.3+ KB\n"
     ]
    }
   ],
   "source": [
    "test_df.info()"
   ]
  },
  {
   "cell_type": "markdown",
   "metadata": {},
   "source": [
    "We can see that some of the columns in train and test data contains missing values: AGE, YOJ, INCOME, HOME_VAL, JOB, CAR_AGE\\\\\n",
    "\n",
    "In our data we have two types of attributes:\n",
    "\n",
    "<li> Categorical attributes that needs to be mapped to numerical values : PARENT1, MSTATUS, SEX, EDUCATION, JOB, CAR_USE, CAR_TYPE, RED_CAR, REVOKED, URBANICITY\n",
    "    \n",
    "<li> Numerical attributes: 'KIDSDRIV', 'AGE', 'HOMEKIDS','YOJ', 'INCOME', 'HOME_VAL', 'TRAVTIME', 'BLUEBOOK', 'TIF', 'OLDCLAIM', 'CLM_FREQ','MVR_PTS', 'CAR_AGE'\n",
    "    \n",
    "Next step is about fill the missing values and encode the categorical values."
   ]
  },
  {
   "cell_type": "markdown",
   "metadata": {},
   "source": [
    "#### Missing values:"
   ]
  },
  {
   "cell_type": "code",
   "execution_count": 414,
   "metadata": {
    "scrolled": true
   },
   "outputs": [
    {
     "name": "stdout",
     "output_type": "stream",
     "text": [
      "number of missing values for the AGE column6\n"
     ]
    },
    {
     "data": {
      "image/png": "[encoded data removed]",
      "text/plain": [
       "<Figure size 432x288 with 1 Axes>"
      ]
     },
     "metadata": {
      "needs_background": "light"
     },
     "output_type": "display_data"
    }
   ],
   "source": [
    "#AGE\n",
    "print(f\"number of missing values for the AGE column{len(train_df[train_df.AGE.isna()])}\")\n",
    "train_df.AGE.hist(bins=100);"
   ]
  },
  {
   "cell_type": "code",
   "execution_count": 415,
   "metadata": {},
   "outputs": [
    {
     "data": {
      "text/plain": [
       "(44.79031269160024, 8.62706046405591)"
      ]
     },
     "execution_count": 415,
     "metadata": {},
     "output_type": "execute_result"
    }
   ],
   "source": [
    "mu, std = norm.fit(train_df.AGE.dropna().to_numpy())\n",
    "mu, std"
   ]
  },
  {
   "cell_type": "markdown",
   "metadata": {},
   "source": [
    "From the figure we notice that the distribution of the age column looks like a normal distribution. so the idea for the missing value is to fit the data with a normal distribution and fill the missing values by sampling. "
   ]
  },
  {
   "cell_type": "code",
   "execution_count": 416,
   "metadata": {},
   "outputs": [],
   "source": [
    "# Fit a normal distribution to the data:\n",
    "mu, std = norm.fit(train_df.AGE.dropna().to_numpy())\n",
    "# fill the missing value for the age column by randomly sample from a normal distribution\n",
    "train_idx = train_df[train_df.AGE.isna()].index\n",
    "test_idx = test_df[test_df.AGE.isna()].index\n",
    "\n",
    "for ix in train_idx:\n",
    "    train_df.at[ix,'AGE'] = np.random.normal(mu, std, 1)\n",
    "for ix in test_idx:\n",
    "    test_df.at[ix,'AGE'] = np.random.normal(mu, std, 1)"
   ]
  },
  {
   "cell_type": "code",
   "execution_count": 417,
   "metadata": {},
   "outputs": [
    {
     "data": {
      "text/plain": [
       "array([11., 10., 14., nan, 12.,  7.,  5.,  0., 13.,  9., 17.,  8., 15.,\n",
       "       16.,  6., 18., 23.,  3.,  4.,  2., 19.,  1.])"
      ]
     },
     "execution_count": 417,
     "metadata": {},
     "output_type": "execute_result"
    }
   ],
   "source": [
    "#YOJ\n",
    "train_df.YOJ.unique()"
   ]
  },
  {
   "cell_type": "code",
   "execution_count": 418,
   "metadata": {},
   "outputs": [
    {
     "data": {
      "text/plain": [
       "<matplotlib.axes._subplots.AxesSubplot at 0x7fec046a17d0>"
      ]
     },
     "execution_count": 418,
     "metadata": {},
     "output_type": "execute_result"
    },
    {
     "data": {
      "image/png": "[encoded data removed]",
      "text/plain": [
       "<Figure size 432x288 with 1 Axes>"
      ]
     },
     "metadata": {
      "needs_background": "light"
     },
     "output_type": "display_data"
    }
   ],
   "source": [
    "train_df.YOJ.hist(bins=50)"
   ]
  },
  {
   "cell_type": "code",
   "execution_count": 419,
   "metadata": {},
   "outputs": [
    {
     "name": "stdout",
     "output_type": "stream",
     "text": [
      "number of missing value for YOJ is 454\n"
     ]
    }
   ],
   "source": [
    "print(f\"number of missing value for YOJ is {len(train_df[train_df.YOJ.isna()])}\")"
   ]
  },
  {
   "cell_type": "markdown",
   "metadata": {},
   "source": [
    "In this case i'll fill the missing  value with the mean"
   ]
  },
  {
   "cell_type": "code",
   "execution_count": 420,
   "metadata": {},
   "outputs": [],
   "source": [
    "mean = train_df[\"YOJ\"].mean() # compute the mean value\n",
    "train_df[\"YOJ\"].fillna(mean, inplace=True)\n",
    "test_df[\"YOJ\"].fillna(mean, inplace=True)"
   ]
  },
  {
   "cell_type": "code",
   "execution_count": 421,
   "metadata": {},
   "outputs": [],
   "source": [
    "# INCOME\n",
    "def convert_float(x):\n",
    "    try: \n",
    "        return float(x.replace(',','.')[1:])\n",
    "    except:\n",
    "        return x\n",
    "                     \n",
    "train_df.INCOME = train_df.INCOME.apply(lambda x: convert_float(x)) # convert the income string to float\n",
    "test_df.INCOME = test_df.INCOME.apply(lambda x: convert_float(x)) # convert the income string to float\n"
   ]
  },
  {
   "cell_type": "code",
   "execution_count": 422,
   "metadata": {},
   "outputs": [
    {
     "data": {
      "text/plain": [
       "<matplotlib.axes._subplots.AxesSubplot at 0x7fec04c85a50>"
      ]
     },
     "execution_count": 422,
     "metadata": {},
     "output_type": "execute_result"
    },
    {
     "data": {
      "image/png": "[encoded data removed]",
      "text/plain": [
       "<Figure size 432x288 with 1 Axes>"
      ]
     },
     "metadata": {
      "needs_background": "light"
     },
     "output_type": "display_data"
    }
   ],
   "source": [
    "train_df.INCOME.hist(bins=100)"
   ]
  },
  {
   "cell_type": "markdown",
   "metadata": {},
   "source": [
    "in this case we have a dominant value which is 0, so i'll fill the missing data with 0"
   ]
  },
  {
   "cell_type": "code",
   "execution_count": 423,
   "metadata": {},
   "outputs": [],
   "source": [
    "train_df.INCOME.fillna(0,inplace=True)\n",
    "test_df.INCOME.fillna(0,inplace=True)"
   ]
  },
  {
   "cell_type": "code",
   "execution_count": 424,
   "metadata": {},
   "outputs": [],
   "source": [
    "# HOME_VAL\n",
    "train_df.HOME_VAL = train_df.HOME_VAL.apply(lambda x: convert_float(x)) # convert the income string to float\n",
    "test_df.HOME_VAL = test_df.HOME_VAL.apply(lambda x: convert_float(x)) # convert the income string to float\n"
   ]
  },
  {
   "cell_type": "code",
   "execution_count": 425,
   "metadata": {},
   "outputs": [
    {
     "data": {
      "text/plain": [
       "<matplotlib.axes._subplots.AxesSubplot at 0x7fec081f3710>"
      ]
     },
     "execution_count": 425,
     "metadata": {},
     "output_type": "execute_result"
    },
    {
     "data": {
      "image/png": "[encoded data removed]",
      "text/plain": [
       "<Figure size 432x288 with 1 Axes>"
      ]
     },
     "metadata": {
      "needs_background": "light"
     },
     "output_type": "display_data"
    }
   ],
   "source": [
    "train_df.HOME_VAL.hist(bins=100)"
   ]
  },
  {
   "cell_type": "markdown",
   "metadata": {},
   "source": [
    "we have a dominant value which is 0, i'll fill the missing values with 0"
   ]
  },
  {
   "cell_type": "code",
   "execution_count": 426,
   "metadata": {},
   "outputs": [],
   "source": [
    "train_df.HOME_VAL.fillna(0,inplace=True)\n",
    "test_df.HOME_VAL.fillna(0,inplace=True)"
   ]
  },
  {
   "cell_type": "code",
   "execution_count": 427,
   "metadata": {},
   "outputs": [
    {
     "data": {
      "text/plain": [
       "z_Blue Collar    1825\n",
       "Clerical         1271\n",
       "Professional     1117\n",
       "Manager           988\n",
       "Lawyer            835\n",
       "Student           712\n",
       "Home Maker        641\n",
       "Doctor            246\n",
       "Name: JOB, dtype: int64"
      ]
     },
     "execution_count": 427,
     "metadata": {},
     "output_type": "execute_result"
    }
   ],
   "source": [
    "# JOB\n",
    "train_df.JOB.value_counts()"
   ]
  },
  {
   "cell_type": "code",
   "execution_count": 428,
   "metadata": {},
   "outputs": [
    {
     "data": {
      "text/plain": [
       "526"
      ]
     },
     "execution_count": 428,
     "metadata": {},
     "output_type": "execute_result"
    }
   ],
   "source": [
    "len(train_df[train_df.JOB.isna()])"
   ]
  },
  {
   "cell_type": "markdown",
   "metadata": {},
   "source": [
    "in this case it's better to distinguish the missing values by adding another category for the missing values."
   ]
  },
  {
   "cell_type": "code",
   "execution_count": 429,
   "metadata": {},
   "outputs": [],
   "source": [
    "train_df.JOB.fillna('NA', inplace=True)\n",
    "test_df.JOB.fillna('NA', inplace=True)"
   ]
  },
  {
   "cell_type": "code",
   "execution_count": 430,
   "metadata": {},
   "outputs": [],
   "source": [
    "# CAR_AGE"
   ]
  },
  {
   "cell_type": "code",
   "execution_count": 431,
   "metadata": {},
   "outputs": [
    {
     "data": {
      "text/plain": [
       "<matplotlib.axes._subplots.AxesSubplot at 0x7fec0739cdd0>"
      ]
     },
     "execution_count": 431,
     "metadata": {},
     "output_type": "execute_result"
    },
    {
     "data": {
      "image/png": "[encoded data removed]",
      "text/plain": [
       "<Figure size 432x288 with 1 Axes>"
      ]
     },
     "metadata": {
      "needs_background": "light"
     },
     "output_type": "display_data"
    }
   ],
   "source": [
    "train_df.CAR_AGE.hist(bins=100)"
   ]
  },
  {
   "cell_type": "markdown",
   "metadata": {},
   "source": [
    "We have a dominant value, so we fill the misiing value by 1"
   ]
  },
  {
   "cell_type": "code",
   "execution_count": 432,
   "metadata": {},
   "outputs": [],
   "source": [
    "train_df.CAR_AGE.fillna(1,inplace=True)\n",
    "test_df.CAR_AGE.fillna(1,inplace=True)"
   ]
  },
  {
   "cell_type": "markdown",
   "metadata": {},
   "source": [
    "#### Encoding the categorical values:"
   ]
  },
  {
   "cell_type": "markdown",
   "metadata": {},
   "source": [
    "The two most popular techniques:\n",
    "<li> Integer encoding: each unique label mapped to an integer, it is mainly used if we have a known relationship between the labels\n",
    "<li> One hot encoding: each unique label mapped to a binary vector, it is mainly used if there is no relationship between the labels"
   ]
  },
  {
   "cell_type": "code",
   "execution_count": 433,
   "metadata": {},
   "outputs": [
    {
     "data": {
      "text/plain": [
       "array(['No', 'Yes'], dtype=object)"
      ]
     },
     "execution_count": 433,
     "metadata": {},
     "output_type": "execute_result"
    }
   ],
   "source": [
    "# PARENT1\n",
    "train_df.PARENT1.unique()"
   ]
  },
  {
   "cell_type": "markdown",
   "metadata": {},
   "source": [
    "For the column PARENT1 has two unique value, the best encoding method is a binary encoding:\n",
    "\n",
    "NO ==> 0 <br>\n",
    "YES ==> 1"
   ]
  },
  {
   "cell_type": "code",
   "execution_count": 434,
   "metadata": {},
   "outputs": [],
   "source": [
    "train_df['PARENT1'] = train_df['PARENT1'].apply(lambda x: 0 if x=='No' else 1)\n",
    "test_df['PARENT1'] = test_df['PARENT1'].apply(lambda x: 0 if x=='No' else 1)"
   ]
  },
  {
   "cell_type": "code",
   "execution_count": 435,
   "metadata": {},
   "outputs": [
    {
     "data": {
      "text/plain": [
       "array(['z_No', 'Yes'], dtype=object)"
      ]
     },
     "execution_count": 435,
     "metadata": {},
     "output_type": "execute_result"
    }
   ],
   "source": [
    "# MSTATUS\n",
    "train_df.MSTATUS.unique()"
   ]
  },
  {
   "cell_type": "markdown",
   "metadata": {},
   "source": [
    "binary encoding<br>\n",
    "z_NO ==> 0<br>\n",
    "Yes ==> 1"
   ]
  },
  {
   "cell_type": "code",
   "execution_count": 436,
   "metadata": {},
   "outputs": [],
   "source": [
    "train_df['MSTATUS'] = train_df['MSTATUS'].apply(lambda x: 0 if x=='z_No' else 1)\n",
    "test_df['MSTATUS'] = test_df['MSTATUS'].apply(lambda x: 0 if x=='z_No' else 1)"
   ]
  },
  {
   "cell_type": "code",
   "execution_count": 437,
   "metadata": {},
   "outputs": [
    {
     "data": {
      "text/plain": [
       "array(['M', 'z_F'], dtype=object)"
      ]
     },
     "execution_count": 437,
     "metadata": {},
     "output_type": "execute_result"
    }
   ],
   "source": [
    "#SEX\n",
    "train_df.SEX.unique()"
   ]
  },
  {
   "cell_type": "markdown",
   "metadata": {},
   "source": [
    "binary encoding: <br>\n",
    "z_F ==> 0<br>\n",
    "M ==> 1"
   ]
  },
  {
   "cell_type": "code",
   "execution_count": 438,
   "metadata": {},
   "outputs": [],
   "source": [
    "train_df['SEX'] = train_df['SEX'].apply(lambda x: 0 if x=='z_F' else 1)\n",
    "test_df['SEX'] = test_df['SEX'].apply(lambda x: 0 if x=='z_F' else 1)"
   ]
  },
  {
   "cell_type": "code",
   "execution_count": 439,
   "metadata": {},
   "outputs": [
    {
     "data": {
      "text/plain": [
       "array(['PhD', 'z_High School', '<High School', 'Bachelors', 'Masters'],\n",
       "      dtype=object)"
      ]
     },
     "execution_count": 439,
     "metadata": {},
     "output_type": "execute_result"
    }
   ],
   "source": [
    "#EDUCATION\n",
    "train_df.EDUCATION.unique()"
   ]
  },
  {
   "cell_type": "markdown",
   "metadata": {},
   "source": [
    "In this case there is relashionship between the category so it's good to use the method integer encoding:<br>\n",
    "\"<High School\" ==> 0\n",
    "\"z_High School\" ==> 1\n",
    "\"Bachelors\" ==> 2\n",
    "\"Masters\" ==> 3\n",
    "\"phd\" ==> 4"
   ]
  },
  {
   "cell_type": "code",
   "execution_count": 440,
   "metadata": {},
   "outputs": [],
   "source": [
    "def encode_education(x):\n",
    "    if x==\"<High School\":\n",
    "        return 0\n",
    "    elif x=='z_High School':\n",
    "        return 1\n",
    "    elif x=='Bachelors':\n",
    "        return 2\n",
    "    elif x=='Masters':\n",
    "        return 3\n",
    "    elif x=='PhD':\n",
    "        return 4\n",
    "train_df[\"EDUCATION\"] = train_df[\"EDUCATION\"].apply(lambda x: encode_education(x))\n",
    "test_df[\"EDUCATION\"] = test_df[\"EDUCATION\"].apply(lambda x: encode_education(x))"
   ]
  },
  {
   "cell_type": "code",
   "execution_count": 441,
   "metadata": {},
   "outputs": [
    {
     "data": {
      "text/plain": [
       "array(['Private', 'Commercial'], dtype=object)"
      ]
     },
     "execution_count": 441,
     "metadata": {},
     "output_type": "execute_result"
    }
   ],
   "source": [
    "#CAR USE\n",
    "train_df.CAR_USE.unique()"
   ]
  },
  {
   "cell_type": "code",
   "execution_count": 442,
   "metadata": {},
   "outputs": [],
   "source": [
    "train_df['CAR_USE'] = train_df['CAR_USE'].apply(lambda x: 0 if x=='Private' else 1)\n",
    "test_df['CAR_USE'] = test_df['CAR_USE'].apply(lambda x: 0 if x=='Private' else 1)"
   ]
  },
  {
   "cell_type": "code",
   "execution_count": 443,
   "metadata": {},
   "outputs": [
    {
     "data": {
      "text/plain": [
       "array(['Minivan', 'z_SUV', 'Sports Car', 'Van', 'Panel Truck', 'Pickup'],\n",
       "      dtype=object)"
      ]
     },
     "execution_count": 443,
     "metadata": {},
     "output_type": "execute_result"
    }
   ],
   "source": [
    "# CAR_TYPE\n",
    "train_df['CAR_TYPE'].unique()"
   ]
  },
  {
   "cell_type": "markdown",
   "metadata": {},
   "source": [
    "in this we don't have a relationship between category, so we will use the one hot encoding method "
   ]
  },
  {
   "cell_type": "code",
   "execution_count": 444,
   "metadata": {},
   "outputs": [],
   "source": [
    "ohe = OneHotEncoder()\n",
    "ohe.fit(train_df[['CAR_TYPE']]) # fit the one hot encoding on the training data\n",
    "CARE_TYPE_COLUMNS = train_df['CAR_TYPE'].unique().tolist()\n",
    "train_df = train_df.join(pd.DataFrame(ohe.transform(train_df[['CAR_TYPE']]).todense(),columns=CARE_TYPE_COLUMNS))\n",
    "test_df = test_df.join(pd.DataFrame(ohe.transform(test_df[['CAR_TYPE']]).todense(),columns=CARE_TYPE_COLUMNS))\n",
    "test_df.drop('CAR_TYPE',axis=1,inplace=True)\n",
    "train_df.drop('CAR_TYPE',axis=1,inplace=True)"
   ]
  },
  {
   "cell_type": "code",
   "execution_count": 445,
   "metadata": {},
   "outputs": [
    {
     "data": {
      "text/plain": [
       "array(['yes', 'no'], dtype=object)"
      ]
     },
     "execution_count": 445,
     "metadata": {},
     "output_type": "execute_result"
    }
   ],
   "source": [
    "# RED_CAR\n",
    "train_df.RED_CAR.unique()"
   ]
  },
  {
   "cell_type": "markdown",
   "metadata": {},
   "source": [
    "Binary encoding"
   ]
  },
  {
   "cell_type": "code",
   "execution_count": 446,
   "metadata": {},
   "outputs": [],
   "source": [
    "train_df[\"RED_CAR\"] = train_df[\"RED_CAR\"].apply(lambda x: 0 if x=='no' else 1)\n",
    "test_df[\"RED_CAR\"] = test_df[\"RED_CAR\"].apply(lambda x: 0 if x=='no' else 1)"
   ]
  },
  {
   "cell_type": "code",
   "execution_count": 447,
   "metadata": {},
   "outputs": [
    {
     "data": {
      "text/plain": [
       "array(['No', 'Yes'], dtype=object)"
      ]
     },
     "execution_count": 447,
     "metadata": {},
     "output_type": "execute_result"
    }
   ],
   "source": [
    "#REVOKED\n",
    "train_df.REVOKED.unique()"
   ]
  },
  {
   "cell_type": "code",
   "execution_count": 448,
   "metadata": {},
   "outputs": [],
   "source": [
    "#binary encoding\n",
    "train_df[\"REVOKED\"] = train_df[\"REVOKED\"].apply(lambda x: 0 if x=='No' else 1)\n",
    "test_df[\"REVOKED\"] = test_df[\"REVOKED\"].apply(lambda x: 0 if x=='No' else 1)"
   ]
  },
  {
   "cell_type": "code",
   "execution_count": 449,
   "metadata": {},
   "outputs": [
    {
     "data": {
      "text/plain": [
       "array(['Highly Urban/ Urban', 'z_Highly Rural/ Rural'], dtype=object)"
      ]
     },
     "execution_count": 449,
     "metadata": {},
     "output_type": "execute_result"
    }
   ],
   "source": [
    "# URBANICITY\n",
    "train_df.URBANICITY.unique()"
   ]
  },
  {
   "cell_type": "code",
   "execution_count": 450,
   "metadata": {},
   "outputs": [],
   "source": [
    "#binary encoding\n",
    "train_df[\"URBANICITY\"] = train_df[\"URBANICITY\"].apply(lambda x: 0 if x=='Highly Urban/ Urban' else 1)\n",
    "test_df[\"URBANICITY\"] = test_df[\"URBANICITY\"].apply(lambda x: 0 if x=='Highly Urban/ Urban' else 1)"
   ]
  },
  {
   "cell_type": "code",
   "execution_count": 451,
   "metadata": {},
   "outputs": [
    {
     "data": {
      "text/plain": [
       "array(['Professional', 'z_Blue Collar', 'Clerical', 'Doctor', 'Lawyer',\n",
       "       'Manager', 'NA', 'Home Maker', 'Student'], dtype=object)"
      ]
     },
     "execution_count": 451,
     "metadata": {},
     "output_type": "execute_result"
    }
   ],
   "source": [
    "# JOB\n",
    "train_df.JOB.unique()"
   ]
  },
  {
   "cell_type": "code",
   "execution_count": 452,
   "metadata": {},
   "outputs": [],
   "source": [
    "#one hot encoding\n",
    "ohe = OneHotEncoder()\n",
    "ohe.fit(train_df[['JOB']]) # fit the one hot encoding on the training data\n",
    "JOB_COLUMNS = train_df['JOB'].unique().tolist()\n",
    "train_df = train_df.join(pd.DataFrame(ohe.transform(train_df[['JOB']]).todense(),columns=JOB_COLUMNS))\n",
    "test_df = test_df.join(pd.DataFrame(ohe.transform(test_df[['JOB']]).todense(),columns=JOB_COLUMNS))\n",
    "test_df.drop('JOB',axis=1,inplace=True)\n",
    "train_df.drop('JOB',axis=1,inplace=True)"
   ]
  },
  {
   "cell_type": "code",
   "execution_count": 488,
   "metadata": {},
   "outputs": [
    {
     "data": {
      "text/html": [
       "<div>\n",
       "<style scoped>\n",
       "    .dataframe tbody tr th:only-of-type {\n",
       "        vertical-align: middle;\n",
       "    }\n",
       "\n",
       "    .dataframe tbody tr th {\n",
       "        vertical-align: top;\n",
       "    }\n",
       "\n",
       "    .dataframe thead th {\n",
       "        text-align: right;\n",
       "    }\n",
       "</style>\n",
       "<table border=\"1\" class=\"dataframe\">\n",
       "  <thead>\n",
       "    <tr style=\"text-align: right;\">\n",
       "      <th></th>\n",
       "      <th>INDEX</th>\n",
       "      <th>TARGET_FLAG</th>\n",
       "      <th>KIDSDRIV</th>\n",
       "      <th>AGE</th>\n",
       "      <th>HOMEKIDS</th>\n",
       "      <th>YOJ</th>\n",
       "      <th>INCOME</th>\n",
       "      <th>PARENT1</th>\n",
       "      <th>HOME_VAL</th>\n",
       "      <th>MSTATUS</th>\n",
       "      <th>SEX</th>\n",
       "      <th>EDUCATION</th>\n",
       "      <th>TRAVTIME</th>\n",
       "      <th>CAR_USE</th>\n",
       "      <th>BLUEBOOK</th>\n",
       "      <th>TIF</th>\n",
       "      <th>RED_CAR</th>\n",
       "      <th>OLDCLAIM</th>\n",
       "      <th>CLM_FREQ</th>\n",
       "      <th>REVOKED</th>\n",
       "      <th>MVR_PTS</th>\n",
       "      <th>CAR_AGE</th>\n",
       "      <th>URBANICITY</th>\n",
       "      <th>Minivan</th>\n",
       "      <th>z_SUV</th>\n",
       "      <th>Sports Car</th>\n",
       "      <th>Van</th>\n",
       "      <th>Panel Truck</th>\n",
       "      <th>Pickup</th>\n",
       "      <th>Professional</th>\n",
       "      <th>z_Blue Collar</th>\n",
       "      <th>Clerical</th>\n",
       "      <th>Doctor</th>\n",
       "      <th>Lawyer</th>\n",
       "      <th>Manager</th>\n",
       "      <th>NA</th>\n",
       "      <th>Home Maker</th>\n",
       "      <th>Student</th>\n",
       "    </tr>\n",
       "  </thead>\n",
       "  <tbody>\n",
       "    <tr>\n",
       "      <th>0</th>\n",
       "      <td>3</td>\n",
       "      <td>NaN</td>\n",
       "      <td>0</td>\n",
       "      <td>48.0</td>\n",
       "      <td>0</td>\n",
       "      <td>11.000000</td>\n",
       "      <td>52.881</td>\n",
       "      <td>0</td>\n",
       "      <td>0.0</td>\n",
       "      <td>0</td>\n",
       "      <td>1</td>\n",
       "      <td>2</td>\n",
       "      <td>26</td>\n",
       "      <td>0</td>\n",
       "      <td>21.97</td>\n",
       "      <td>1</td>\n",
       "      <td>1</td>\n",
       "      <td>0.000</td>\n",
       "      <td>0</td>\n",
       "      <td>0</td>\n",
       "      <td>2</td>\n",
       "      <td>10.0</td>\n",
       "      <td>0</td>\n",
       "      <td>0.0</td>\n",
       "      <td>0.0</td>\n",
       "      <td>0.0</td>\n",
       "      <td>0.0</td>\n",
       "      <td>1.0</td>\n",
       "      <td>0.0</td>\n",
       "      <td>0.0</td>\n",
       "      <td>0.0</td>\n",
       "      <td>0.0</td>\n",
       "      <td>0.0</td>\n",
       "      <td>1.0</td>\n",
       "      <td>0.0</td>\n",
       "      <td>0.0</td>\n",
       "      <td>0.0</td>\n",
       "      <td>0.0</td>\n",
       "    </tr>\n",
       "    <tr>\n",
       "      <th>1</th>\n",
       "      <td>9</td>\n",
       "      <td>NaN</td>\n",
       "      <td>1</td>\n",
       "      <td>40.0</td>\n",
       "      <td>1</td>\n",
       "      <td>11.000000</td>\n",
       "      <td>50.815</td>\n",
       "      <td>1</td>\n",
       "      <td>0.0</td>\n",
       "      <td>0</td>\n",
       "      <td>1</td>\n",
       "      <td>1</td>\n",
       "      <td>21</td>\n",
       "      <td>0</td>\n",
       "      <td>18.93</td>\n",
       "      <td>6</td>\n",
       "      <td>0</td>\n",
       "      <td>3.295</td>\n",
       "      <td>1</td>\n",
       "      <td>0</td>\n",
       "      <td>2</td>\n",
       "      <td>1.0</td>\n",
       "      <td>0</td>\n",
       "      <td>1.0</td>\n",
       "      <td>0.0</td>\n",
       "      <td>0.0</td>\n",
       "      <td>0.0</td>\n",
       "      <td>0.0</td>\n",
       "      <td>0.0</td>\n",
       "      <td>0.0</td>\n",
       "      <td>0.0</td>\n",
       "      <td>0.0</td>\n",
       "      <td>0.0</td>\n",
       "      <td>1.0</td>\n",
       "      <td>0.0</td>\n",
       "      <td>0.0</td>\n",
       "      <td>0.0</td>\n",
       "      <td>0.0</td>\n",
       "    </tr>\n",
       "    <tr>\n",
       "      <th>2</th>\n",
       "      <td>10</td>\n",
       "      <td>NaN</td>\n",
       "      <td>0</td>\n",
       "      <td>44.0</td>\n",
       "      <td>2</td>\n",
       "      <td>12.000000</td>\n",
       "      <td>43.486</td>\n",
       "      <td>1</td>\n",
       "      <td>0.0</td>\n",
       "      <td>0</td>\n",
       "      <td>0</td>\n",
       "      <td>1</td>\n",
       "      <td>30</td>\n",
       "      <td>1</td>\n",
       "      <td>5.90</td>\n",
       "      <td>10</td>\n",
       "      <td>0</td>\n",
       "      <td>0.000</td>\n",
       "      <td>0</td>\n",
       "      <td>0</td>\n",
       "      <td>0</td>\n",
       "      <td>10.0</td>\n",
       "      <td>1</td>\n",
       "      <td>0.0</td>\n",
       "      <td>0.0</td>\n",
       "      <td>0.0</td>\n",
       "      <td>0.0</td>\n",
       "      <td>0.0</td>\n",
       "      <td>1.0</td>\n",
       "      <td>0.0</td>\n",
       "      <td>0.0</td>\n",
       "      <td>0.0</td>\n",
       "      <td>0.0</td>\n",
       "      <td>0.0</td>\n",
       "      <td>0.0</td>\n",
       "      <td>0.0</td>\n",
       "      <td>0.0</td>\n",
       "      <td>1.0</td>\n",
       "    </tr>\n",
       "    <tr>\n",
       "      <th>3</th>\n",
       "      <td>18</td>\n",
       "      <td>NaN</td>\n",
       "      <td>0</td>\n",
       "      <td>35.0</td>\n",
       "      <td>2</td>\n",
       "      <td>10.499286</td>\n",
       "      <td>21.204</td>\n",
       "      <td>1</td>\n",
       "      <td>0.0</td>\n",
       "      <td>0</td>\n",
       "      <td>1</td>\n",
       "      <td>1</td>\n",
       "      <td>74</td>\n",
       "      <td>0</td>\n",
       "      <td>9.23</td>\n",
       "      <td>6</td>\n",
       "      <td>0</td>\n",
       "      <td>0.000</td>\n",
       "      <td>0</td>\n",
       "      <td>1</td>\n",
       "      <td>0</td>\n",
       "      <td>4.0</td>\n",
       "      <td>1</td>\n",
       "      <td>0.0</td>\n",
       "      <td>0.0</td>\n",
       "      <td>1.0</td>\n",
       "      <td>0.0</td>\n",
       "      <td>0.0</td>\n",
       "      <td>0.0</td>\n",
       "      <td>1.0</td>\n",
       "      <td>0.0</td>\n",
       "      <td>0.0</td>\n",
       "      <td>0.0</td>\n",
       "      <td>0.0</td>\n",
       "      <td>0.0</td>\n",
       "      <td>0.0</td>\n",
       "      <td>0.0</td>\n",
       "      <td>0.0</td>\n",
       "    </tr>\n",
       "    <tr>\n",
       "      <th>4</th>\n",
       "      <td>21</td>\n",
       "      <td>NaN</td>\n",
       "      <td>0</td>\n",
       "      <td>59.0</td>\n",
       "      <td>0</td>\n",
       "      <td>12.000000</td>\n",
       "      <td>87.460</td>\n",
       "      <td>0</td>\n",
       "      <td>0.0</td>\n",
       "      <td>0</td>\n",
       "      <td>1</td>\n",
       "      <td>1</td>\n",
       "      <td>45</td>\n",
       "      <td>0</td>\n",
       "      <td>15.42</td>\n",
       "      <td>1</td>\n",
       "      <td>1</td>\n",
       "      <td>44.857</td>\n",
       "      <td>2</td>\n",
       "      <td>0</td>\n",
       "      <td>4</td>\n",
       "      <td>1.0</td>\n",
       "      <td>0</td>\n",
       "      <td>1.0</td>\n",
       "      <td>0.0</td>\n",
       "      <td>0.0</td>\n",
       "      <td>0.0</td>\n",
       "      <td>0.0</td>\n",
       "      <td>0.0</td>\n",
       "      <td>0.0</td>\n",
       "      <td>0.0</td>\n",
       "      <td>0.0</td>\n",
       "      <td>0.0</td>\n",
       "      <td>1.0</td>\n",
       "      <td>0.0</td>\n",
       "      <td>0.0</td>\n",
       "      <td>0.0</td>\n",
       "      <td>0.0</td>\n",
       "    </tr>\n",
       "  </tbody>\n",
       "</table>\n",
       "</div>"
      ],
      "text/plain": [
       "   INDEX  TARGET_FLAG  KIDSDRIV   AGE  HOMEKIDS        YOJ  INCOME  PARENT1  \\\n",
       "0      3          NaN         0  48.0         0  11.000000  52.881        0   \n",
       "1      9          NaN         1  40.0         1  11.000000  50.815        1   \n",
       "2     10          NaN         0  44.0         2  12.000000  43.486        1   \n",
       "3     18          NaN         0  35.0         2  10.499286  21.204        1   \n",
       "4     21          NaN         0  59.0         0  12.000000  87.460        0   \n",
       "\n",
       "   HOME_VAL  MSTATUS  SEX  EDUCATION  TRAVTIME  CAR_USE  BLUEBOOK  TIF  \\\n",
       "0       0.0        0    1          2        26        0     21.97    1   \n",
       "1       0.0        0    1          1        21        0     18.93    6   \n",
       "2       0.0        0    0          1        30        1      5.90   10   \n",
       "3       0.0        0    1          1        74        0      9.23    6   \n",
       "4       0.0        0    1          1        45        0     15.42    1   \n",
       "\n",
       "   RED_CAR  OLDCLAIM  CLM_FREQ  REVOKED  MVR_PTS  CAR_AGE  URBANICITY  \\\n",
       "0        1     0.000         0        0        2     10.0           0   \n",
       "1        0     3.295         1        0        2      1.0           0   \n",
       "2        0     0.000         0        0        0     10.0           1   \n",
       "3        0     0.000         0        1        0      4.0           1   \n",
       "4        1    44.857         2        0        4      1.0           0   \n",
       "\n",
       "   Minivan  z_SUV  Sports Car  Van  Panel Truck  Pickup  Professional  \\\n",
       "0      0.0    0.0         0.0  0.0          1.0     0.0           0.0   \n",
       "1      1.0    0.0         0.0  0.0          0.0     0.0           0.0   \n",
       "2      0.0    0.0         0.0  0.0          0.0     1.0           0.0   \n",
       "3      0.0    0.0         1.0  0.0          0.0     0.0           1.0   \n",
       "4      1.0    0.0         0.0  0.0          0.0     0.0           0.0   \n",
       "\n",
       "   z_Blue Collar  Clerical  Doctor  Lawyer  Manager   NA  Home Maker  Student  \n",
       "0            0.0       0.0     0.0     1.0      0.0  0.0         0.0      0.0  \n",
       "1            0.0       0.0     0.0     1.0      0.0  0.0         0.0      0.0  \n",
       "2            0.0       0.0     0.0     0.0      0.0  0.0         0.0      1.0  \n",
       "3            0.0       0.0     0.0     0.0      0.0  0.0         0.0      0.0  \n",
       "4            0.0       0.0     0.0     1.0      0.0  0.0         0.0      0.0  "
      ]
     },
     "execution_count": 488,
     "metadata": {},
     "output_type": "execute_result"
    }
   ],
   "source": [
    "test_df.head()"
   ]
  },
  {
   "cell_type": "code",
   "execution_count": 454,
   "metadata": {},
   "outputs": [],
   "source": [
    "# change the type from string to float \n",
    "train_df.OLDCLAIM = train_df.OLDCLAIM.apply(lambda x: convert_float(x))\n",
    "test_df.OLDCLAIM = test_df.OLDCLAIM.apply(lambda x: convert_float(x))\n",
    "train_df.BLUEBOOK = train_df.BLUEBOOK.apply(lambda x: convert_float(x))\n",
    "test_df.BLUEBOOK = test_df.BLUEBOOK.apply(lambda x: convert_float(x))"
   ]
  },
  {
   "cell_type": "markdown",
   "metadata": {},
   "source": [
    "<hr style=\"border-width:2px;border-color:#BF3FAE\">\n",
    "<h4 style = \"text-align:center\"> 1.2. Feature Engineering</h4> \n",
    "<hr style=\"border-width:2px;border-color:#BF3FAE\">"
   ]
  },
  {
   "cell_type": "code",
   "execution_count": 51,
   "metadata": {},
   "outputs": [],
   "source": [
    "# Select the best features "
   ]
  },
  {
   "cell_type": "code",
   "execution_count": 490,
   "metadata": {},
   "outputs": [
    {
     "data": {
      "image/png": "[encoded data removed]",
      "text/plain": [
       "<Figure size 720x720 with 2 Axes>"
      ]
     },
     "metadata": {
      "needs_background": "light"
     },
     "output_type": "display_data"
    }
   ],
   "source": [
    "# correlation\n",
    "corr = train_df.corr()\n",
    "fig, ax = plt.subplots(figsize=(10,10)) \n",
    "sns_plot = sns.heatmap(corr, \n",
    "        xticklabels=corr.columns,\n",
    "        yticklabels=corr.columns,\n",
    "        ax = ax\n",
    "       )"
   ]
  },
  {
   "cell_type": "markdown",
   "metadata": {},
   "source": [
    "From the figure we notice that we don't have a strong correlation between features <br>\n",
    "next step we will keep the features that has a correlation greater than 0.1"
   ]
  },
  {
   "cell_type": "code",
   "execution_count": 491,
   "metadata": {},
   "outputs": [
    {
     "name": "stderr",
     "output_type": "stream",
     "text": [
      "/home/alpha10x/miniconda3/lib/python3.7/site-packages/ipykernel_launcher.py:2: SettingWithCopyWarning: \n",
      "A value is trying to be set on a copy of a slice from a DataFrame.\n",
      "Try using .loc[row_indexer,col_indexer] = value instead\n",
      "\n",
      "See the caveats in the documentation: https://pandas.pydata.org/pandas-docs/stable/user_guide/indexing.html#returning-a-view-versus-a-copy\n",
      "  \n"
     ]
    }
   ],
   "source": [
    "corr_with_target = corr[['TARGET_FLAG']]\n",
    "corr_with_target[\"TARGET_FLAG\"] = abs(corr_with_target[\"TARGET_FLAG\"]).to_list()"
   ]
  },
  {
   "cell_type": "code",
   "execution_count": 492,
   "metadata": {},
   "outputs": [],
   "source": [
    "selected_features = corr_with_target[corr_with_target.TARGET_FLAG>0.1].index"
   ]
  },
  {
   "cell_type": "code",
   "execution_count": 493,
   "metadata": {},
   "outputs": [
    {
     "data": {
      "text/plain": [
       "Index(['TARGET_FLAG', 'KIDSDRIV', 'AGE', 'HOMEKIDS', 'PARENT1', 'HOME_VAL',\n",
       "       'MSTATUS', 'EDUCATION', 'CAR_USE', 'BLUEBOOK', 'CLM_FREQ', 'REVOKED',\n",
       "       'MVR_PTS', 'URBANICITY', 'Minivan', 'Lawyer', 'Student'],\n",
       "      dtype='object')"
      ]
     },
     "execution_count": 493,
     "metadata": {},
     "output_type": "execute_result"
    }
   ],
   "source": [
    "selected_features"
   ]
  },
  {
   "cell_type": "markdown",
   "metadata": {},
   "source": [
    "<hr style=\"border-width:2px;border-color:#BF3FAE\">\n",
    "<h3 style = \"text-align:center\"> 2. Model  </h3> \n",
    "<hr style=\"border-width:2px;border-color:#BF3FAE\">"
   ]
  },
  {
   "cell_type": "markdown",
   "metadata": {},
   "source": [
    "<hr style=\"border-width:2px;border-color:#BF3FAE\">\n",
    "<h4 style = \"text-align:center\"> 2.1. Model choice</h4> \n",
    "<hr style=\"border-width:2px;border-color:#BF3FAE\">"
   ]
  },
  {
   "cell_type": "code",
   "execution_count": 494,
   "metadata": {},
   "outputs": [],
   "source": [
    "# define train/test data\n",
    "\n",
    "X = train_df[selected_features].drop('TARGET_FLAG',axis=1)\n",
    "y = train_df.TARGET_FLAG\n",
    "# we used stratify to keep the same distribution for the target in train and test \n",
    "X_train, X_test, y_train, y_test = train_test_split(X, y, test_size=0.3, random_state=42,stratify=y)"
   ]
  },
  {
   "cell_type": "code",
   "execution_count": 495,
   "metadata": {},
   "outputs": [
    {
     "name": "stderr",
     "output_type": "stream",
     "text": [
      "/home/alpha10x/miniconda3/lib/python3.7/site-packages/sklearn/svm/_base.py:977: ConvergenceWarning: Liblinear failed to converge, increase the number of iterations.\n",
      "  \"the number of iterations.\", ConvergenceWarning)\n"
     ]
    },
    {
     "data": {
      "text/plain": [
       "<matplotlib.axes._subplots.AxesSubplot at 0x7febf6126b90>"
      ]
     },
     "execution_count": 495,
     "metadata": {},
     "output_type": "execute_result"
    },
    {
     "data": {
      "image/png": "[encoded data removed]",
      "text/plain": [
       "<Figure size 432x288 with 1 Axes>"
      ]
     },
     "metadata": {
      "needs_background": "light"
     },
     "output_type": "display_data"
    }
   ],
   "source": [
    "# fast trials to choose the best model in our case\n",
    "\n",
    "def lets_try(train,labels):\n",
    "    results={}\n",
    "    def test_model(clf):\n",
    "        clf.fit(X_train, y_train)\n",
    "\n",
    "        f1_s = f1_score(y_test, clf.predict(X_test))\n",
    "        scores=[f1_s]\n",
    "        return scores\n",
    "    \n",
    "    clf = RandomForestClassifier(random_state=0)\n",
    "    results[\"RandomForest\"]=test_model(clf)\n",
    "    \n",
    "    clf = DecisionTreeClassifier()\n",
    "    results[\"DecisionTree\"]=test_model(clf)\n",
    "    \n",
    "    clf = LinearSVC()\n",
    "    results[\"Linear SVC\"]=test_model(clf)\n",
    "    \n",
    "    \n",
    "    clf = AdaBoostClassifier()\n",
    "    results[\"AdaBoost\"]=test_model(clf)\n",
    "    \n",
    "    clf =  KNeighborsClassifier()\n",
    "    results[\"KNN\"]=test_model(clf)\n",
    "    \n",
    "    \n",
    "    results = pd.DataFrame.from_dict(results,orient='index')\n",
    "    results.columns=[\"f1_score\"] \n",
    "#     results['f1_score'].astype('float')\n",
    "    return results\n",
    "results = lets_try(X,y)\n",
    "results=results.sort_values(by=[\"f1_score\"],ascending=True)\n",
    "results['f1_score'].plot(kind='bar')"
   ]
  },
  {
   "cell_type": "code",
   "execution_count": 496,
   "metadata": {},
   "outputs": [
    {
     "data": {
      "text/html": [
       "<div>\n",
       "<style scoped>\n",
       "    .dataframe tbody tr th:only-of-type {\n",
       "        vertical-align: middle;\n",
       "    }\n",
       "\n",
       "    .dataframe tbody tr th {\n",
       "        vertical-align: top;\n",
       "    }\n",
       "\n",
       "    .dataframe thead th {\n",
       "        text-align: right;\n",
       "    }\n",
       "</style>\n",
       "<table border=\"1\" class=\"dataframe\">\n",
       "  <thead>\n",
       "    <tr style=\"text-align: right;\">\n",
       "      <th></th>\n",
       "      <th>f1_score</th>\n",
       "    </tr>\n",
       "  </thead>\n",
       "  <tbody>\n",
       "    <tr>\n",
       "      <th>KNN</th>\n",
       "      <td>0.318841</td>\n",
       "    </tr>\n",
       "    <tr>\n",
       "      <th>DecisionTree</th>\n",
       "      <td>0.441617</td>\n",
       "    </tr>\n",
       "    <tr>\n",
       "      <th>Linear SVC</th>\n",
       "      <td>0.455605</td>\n",
       "    </tr>\n",
       "    <tr>\n",
       "      <th>RandomForest</th>\n",
       "      <td>0.487057</td>\n",
       "    </tr>\n",
       "    <tr>\n",
       "      <th>AdaBoost</th>\n",
       "      <td>0.490530</td>\n",
       "    </tr>\n",
       "  </tbody>\n",
       "</table>\n",
       "</div>"
      ],
      "text/plain": [
       "              f1_score\n",
       "KNN           0.318841\n",
       "DecisionTree  0.441617\n",
       "Linear SVC    0.455605\n",
       "RandomForest  0.487057\n",
       "AdaBoost      0.490530"
      ]
     },
     "execution_count": 496,
     "metadata": {},
     "output_type": "execute_result"
    }
   ],
   "source": [
    "results"
   ]
  },
  {
   "cell_type": "markdown",
   "metadata": {},
   "source": [
    "it seems that the AdaBoost model is the best choice in this case"
   ]
  },
  {
   "cell_type": "markdown",
   "metadata": {},
   "source": [
    "<hr style=\"border-width:2px;border-color:#BF3FAE\">\n",
    "<h4 style = \"text-align:center\"> 2.2. Hyperparameter optimization</h4> \n",
    "<hr style=\"border-width:2px;border-color:#BF3FAE\">"
   ]
  },
  {
   "cell_type": "code",
   "execution_count": null,
   "metadata": {},
   "outputs": [],
   "source": []
  },
  {
   "cell_type": "code",
   "execution_count": 497,
   "metadata": {},
   "outputs": [],
   "source": [
    "\n",
    "scores=[]\n",
    "space={\n",
    "       'learning_rate':hp.uniform('learning_rate',0,2),\n",
    "        'n_estimators': hp.uniform('n_estimators', 50,1000),\n",
    "    }\n",
    "\n",
    "def hyperparameter_tuning(space):\n",
    "    clf = AdaBoostClassifier(learning_rate=space['learning_rate'],\n",
    "                             n_estimators=int(space['n_estimators']),random_state=42)\n",
    "    clf.fit(X_train, y_train)\n",
    "    f1_s = f1_score(y_test, clf.predict(X_test))\n",
    "\n",
    "    scores.append(f1_s)\n",
    "    return {'loss':-f1_s, 'status': STATUS_OK }"
   ]
  },
  {
   "cell_type": "code",
   "execution_count": 498,
   "metadata": {},
   "outputs": [
    {
     "name": "stdout",
     "output_type": "stream",
     "text": [
      "100%|██████████| 40/40 [01:12<00:00,  1.81s/trial, best loss: -0.5063985374771481]\n",
      "{'learning_rate': 1.7346956790838133, 'n_estimators': 68.20773639997974}\n"
     ]
    }
   ],
   "source": [
    "\n",
    "trials_ = Trials()\n",
    "best = fmin(fn=hyperparameter_tuning,\n",
    "            space=space,\n",
    "            algo=tpe.suggest,\n",
    "            max_evals=40,\n",
    "            trials=trials_)\n",
    "print (best)"
   ]
  },
  {
   "cell_type": "markdown",
   "metadata": {},
   "source": [
    "<hr style=\"border-width:2px;border-color:#BF3FAE\">\n",
    "<h4 style = \"text-align:center\"> 2.3. Model evaluation</h4> \n",
    "<hr style=\"border-width:2px;border-color:#BF3FAE\">"
   ]
  },
  {
   "cell_type": "code",
   "execution_count": 499,
   "metadata": {},
   "outputs": [
    {
     "name": "stdout",
     "output_type": "stream",
     "text": [
      "the f1_score :  0.51\n"
     ]
    }
   ],
   "source": [
    "clf_best = AdaBoostClassifier(learning_rate=best['learning_rate'],\n",
    "                             n_estimators=int(best['n_estimators']),random_state=42)\n",
    "clf_best.fit(X_train, y_train)\n",
    "y_pred = clf_best.predict(X_test)\n",
    "f1_s = f1_score(y_test, clf_best.predict(X_test))\n",
    "print(f\"the f1_score :  {round(f1_s,2)}\")"
   ]
  },
  {
   "cell_type": "code",
   "execution_count": null,
   "metadata": {},
   "outputs": [],
   "source": []
  },
  {
   "cell_type": "code",
   "execution_count": 500,
   "metadata": {},
   "outputs": [
    {
     "name": "stdout",
     "output_type": "stream",
     "text": [
      "              precision    recall  f1-score   support\n",
      "\n",
      "           0       0.82      0.91      0.86      1803\n",
      "           1       0.62      0.43      0.51       646\n",
      "\n",
      "    accuracy                           0.78      2449\n",
      "   macro avg       0.72      0.67      0.68      2449\n",
      "weighted avg       0.76      0.78      0.77      2449\n",
      "\n"
     ]
    }
   ],
   "source": [
    "print(classification_report(y_test, y_pred))"
   ]
  },
  {
   "cell_type": "markdown",
   "metadata": {},
   "source": [
    "From the classification report we can see that we have a low f1-score for the class 1 which the minor class. <br>\n",
    "One way to improve the result is to balance the training data using SMOTE method which will generate synthetic data for the minor class which 1.<br>\n",
    "PS. We will just balance the training data without affecting our test data, so our test data will remain unbalanced"
   ]
  },
  {
   "cell_type": "code",
   "execution_count": 501,
   "metadata": {},
   "outputs": [],
   "source": [
    "X_train_, y_train_ = SMOTE(random_state=16,k_neighbors=5, sampling_strategy='auto').fit_sample(X_train, y_train)\n"
   ]
  },
  {
   "cell_type": "code",
   "execution_count": 502,
   "metadata": {},
   "outputs": [
    {
     "name": "stdout",
     "output_type": "stream",
     "text": [
      "the f1_score :  0.55\n"
     ]
    }
   ],
   "source": [
    "clf_best = AdaBoostClassifier(learning_rate=best['learning_rate'],\n",
    "                             n_estimators=int(best['n_estimators']),random_state=42)\n",
    "clf_best.fit(X_train_, y_train_)\n",
    "f1_s = f1_score(y_test, clf_best.predict(X_test))\n",
    "print(f\"the f1_score :  {round(f1_s,2)}\")"
   ]
  },
  {
   "cell_type": "code",
   "execution_count": 503,
   "metadata": {},
   "outputs": [
    {
     "name": "stdout",
     "output_type": "stream",
     "text": [
      "              precision    recall  f1-score   support\n",
      "\n",
      "           0       0.84      0.81      0.83      1803\n",
      "           1       0.52      0.58      0.55       646\n",
      "\n",
      "    accuracy                           0.75      2449\n",
      "   macro avg       0.68      0.69      0.69      2449\n",
      "weighted avg       0.76      0.75      0.75      2449\n",
      "\n"
     ]
    }
   ],
   "source": [
    "print(classification_report(y_test, clf_best.predict(X_test)))"
   ]
  },
  {
   "cell_type": "markdown",
   "metadata": {},
   "source": [
    "The smote method in this case doesn't help a lot, it increase the f1-score for the class 1 but decrease the f1-score for the class 0."
   ]
  },
  {
   "cell_type": "markdown",
   "metadata": {},
   "source": [
    "<hr style=\"border-width:2px;border-color:#BF3FAE\">\n",
    "<h3 style = \"text-align:center\"> Apply the model to the test data </h3> \n",
    "<hr style=\"border-width:2px;border-color:#BF3FAE\">"
   ]
  },
  {
   "cell_type": "code",
   "execution_count": 513,
   "metadata": {},
   "outputs": [
    {
     "name": "stderr",
     "output_type": "stream",
     "text": [
      "/home/alpha10x/miniconda3/lib/python3.7/site-packages/ipykernel_launcher.py:3: SettingWithCopyWarning: \n",
      "A value is trying to be set on a copy of a slice from a DataFrame.\n",
      "Try using .loc[row_indexer,col_indexer] = value instead\n",
      "\n",
      "See the caveats in the documentation: https://pandas.pydata.org/pandas-docs/stable/user_guide/indexing.html#returning-a-view-versus-a-copy\n",
      "  This is separate from the ipykernel package so we can avoid doing imports until\n"
     ]
    }
   ],
   "source": [
    "# apply model to the test data and generate the csv file for predictions\n",
    "prediction = test_df[['INDEX', 'TARGET_FLAG']]\n",
    "prediction['TARGET_FLAG'] = clf_best.predict(test_df[selected_features].drop('TARGET_FLAG',axis=1))\n",
    "# save the csv file for predicition\n",
    "prediction.to_csv('output/auto_prediciton.csv', index=False)"
   ]
  },
  {
   "cell_type": "markdown",
   "metadata": {},
   "source": [
    "<hr style=\"border-width:2px;border-color:#BF3FAE\">\n",
    "<h3 style = \"text-align:center\"> Future work </h3> \n",
    "<hr style=\"border-width:2px;border-color:#BF3FAE\">"
   ]
  },
  {
   "cell_type": "markdown",
   "metadata": {},
   "source": [
    "<li>To improve the model performance we should find more useful feature because most of them are uncorrelated with the target, so they don't help a lot for the prediction. <br>\n",
    "<li>We can also combine different model instead of using just one model ."
   ]
  }
 ],
 "metadata": {
  "kernelspec": {
   "display_name": "Python 3",
   "language": "python",
   "name": "python3"
  },
  "language_info": {
   "codemirror_mode": {
    "name": "ipython",
    "version": 3
   },
   "file_extension": ".py",
   "mimetype": "text/x-python",
   "name": "python",
   "nbconvert_exporter": "python",
   "pygments_lexer": "ipython3",
   "version": "3.7.6"
  }
 },
 "nbformat": 4,
 "nbformat_minor": 4
}
